{
 "cells": [
  {
   "cell_type": "code",
   "execution_count": 2,
   "id": "1e0a2d15-d027-4e38-a0dc-fe8c3a3de5ee",
   "metadata": {},
   "outputs": [
    {
     "data": {
      "text/html": [
       "\n",
       "                <script type=\"application/javascript\" id=\"jupyter_black\">\n",
       "                (function() {\n",
       "                    if (window.IPython === undefined) {\n",
       "                        return\n",
       "                    }\n",
       "                    var msg = \"WARNING: it looks like you might have loaded \" +\n",
       "                        \"jupyter_black in a non-lab notebook with \" +\n",
       "                        \"`is_lab=True`. Please double check, and if \" +\n",
       "                        \"loading with `%load_ext` please review the README!\"\n",
       "                    console.log(msg)\n",
       "                    alert(msg)\n",
       "                })()\n",
       "                </script>\n",
       "                "
      ],
      "text/plain": [
       "<IPython.core.display.HTML object>"
      ]
     },
     "metadata": {},
     "output_type": "display_data"
    }
   ],
   "source": [
    "%load_ext jupyter_black"
   ]
  },
  {
   "cell_type": "code",
   "execution_count": 5,
   "id": "5a245db4-baf2-4db1-badc-39f6d97ae595",
   "metadata": {},
   "outputs": [],
   "source": [
    "from pathlib import Path\n",
    "import json"
   ]
  },
  {
   "cell_type": "code",
   "execution_count": 6,
   "id": "7bf7d7b7-3343-41f6-a69d-9b4a76b484b1",
   "metadata": {},
   "outputs": [],
   "source": [
    "path = Path(\"./01.ipynb\")\n",
    "\n",
    "with open(path) as f:\n",
    "    data = f.read()\n",
    "\n",
    "data_as_json = json.loads(data)"
   ]
  },
  {
   "cell_type": "code",
   "execution_count": 9,
   "id": "a80ae551-200b-4c4c-922f-93bbe94ec899",
   "metadata": {},
   "outputs": [
    {
     "data": {
      "text/plain": [
       "['# 1. What is Transfer Learning? Where it start for CV and NLP?']"
      ]
     },
     "execution_count": 9,
     "metadata": {},
     "output_type": "execute_result"
    }
   ],
   "source": [
    "data_as_json.get(\"cells\")[0].get(\"source\")"
   ]
  },
  {
   "cell_type": "code",
   "execution_count": null,
   "id": "7fdfa62a-6570-4aec-972f-0460f83f9139",
   "metadata": {},
   "outputs": [],
   "source": []
  }
 ],
 "metadata": {
  "kernelspec": {
   "display_name": "Python 3 (ipykernel)",
   "language": "python",
   "name": "python3"
  },
  "language_info": {
   "codemirror_mode": {
    "name": "ipython",
    "version": 3
   },
   "file_extension": ".py",
   "mimetype": "text/x-python",
   "name": "python",
   "nbconvert_exporter": "python",
   "pygments_lexer": "ipython3",
   "version": "3.10.7"
  }
 },
 "nbformat": 4,
 "nbformat_minor": 5
}
