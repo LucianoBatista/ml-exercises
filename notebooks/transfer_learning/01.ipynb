{
 "cells": [
  {
   "cell_type": "markdown",
   "id": "0185d0a0-ca9a-4e99-9832-a3b284ee7570",
   "metadata": {},
   "source": [
    "# 1. What is Transfer Learning? Where it start for CV and NLP?"
   ]
  },
  {
   "cell_type": "markdown",
   "id": "e6941b72-a31d-4ee0-84be-5cbd3283cbec",
   "metadata": {},
   "source": [
    "# 2. List all models from the repo \"pytorch/vision\""
   ]
  },
  {
   "cell_type": "markdown",
   "id": "32972f59-e0dc-42ea-9c5a-bcf768ad302f",
   "metadata": {},
   "source": [
    "# 3. Load `resnet50` with pretrained weights"
   ]
  },
  {
   "cell_type": "markdown",
   "id": "08f34c96-d710-4094-99bf-21582018e9dc",
   "metadata": {},
   "source": [
    "# 4. How we can use the metadata about those different models weights to choose the best model for the task?"
   ]
  },
  {
   "cell_type": "markdown",
   "id": "714171d9-7900-46e7-8e7f-7738fbfe09b9",
   "metadata": {},
   "source": [
    "# 5. How can we access the transforms operations performed by a specific model loaded from the hub?"
   ]
  },
  {
   "cell_type": "markdown",
   "id": "b7e0a2e5-07a1-405e-be93-b38372cbd386",
   "metadata": {},
   "source": [
    "# 6. What is the convention for images to represent them as tensors (by pytorch)?\n",
    "\n",
    "- N: number of images (mini-batch)\n",
    "- C: channels\n",
    "- H: height\n",
    "- W: width"
   ]
  },
  {
   "cell_type": "code",
   "execution_count": null,
   "id": "a84c390b-f295-4c36-a973-4258d646ac2e",
   "metadata": {},
   "outputs": [],
   "source": []
  },
  {
   "cell_type": "markdown",
   "id": "a56af556-d85a-4286-bb3d-8076042ca94e",
   "metadata": {},
   "source": [
    "# 7. PyTorch hub has only two models in NLP, which models are?"
   ]
  },
  {
   "cell_type": "code",
   "execution_count": null,
   "id": "cb30b4e4-65b7-45e5-8cda-ba6ae4841a1d",
   "metadata": {},
   "outputs": [],
   "source": []
  },
  {
   "cell_type": "markdown",
   "id": "c4fd89db-bd1a-400f-bede-feec20f3913b",
   "metadata": {},
   "source": [
    "# 8. Explains the difference between regular embeddgins and contextual embeddings"
   ]
  },
  {
   "cell_type": "code",
   "execution_count": null,
   "id": "8758ff1f-2ce8-4716-9289-c5dc59ab90d9",
   "metadata": {},
   "outputs": [],
   "source": []
  },
  {
   "cell_type": "code",
   "execution_count": null,
   "id": "1bfac1bb-90aa-4252-b7f9-7ba5965520e7",
   "metadata": {},
   "outputs": [],
   "source": []
  },
  {
   "cell_type": "code",
   "execution_count": null,
   "id": "e6251892-d288-4192-9561-b6441a633d16",
   "metadata": {},
   "outputs": [],
   "source": []
  },
  {
   "cell_type": "code",
   "execution_count": null,
   "id": "f99fd928-68d9-40b4-995b-391f78eb8a54",
   "metadata": {},
   "outputs": [],
   "source": []
  },
  {
   "cell_type": "code",
   "execution_count": null,
   "id": "59145a81-c892-4653-b9f6-34195b4c9660",
   "metadata": {},
   "outputs": [],
   "source": []
  },
  {
   "cell_type": "code",
   "execution_count": null,
   "id": "ce5c90d5-1df0-4ade-891d-f9193a1e46e4",
   "metadata": {},
   "outputs": [],
   "source": []
  },
  {
   "cell_type": "code",
   "execution_count": null,
   "id": "15699e0d-6bf2-4f64-a176-53312c691091",
   "metadata": {},
   "outputs": [],
   "source": []
  },
  {
   "cell_type": "code",
   "execution_count": null,
   "id": "7681eb3e-2a1c-48eb-af50-5f0eb5e8dc07",
   "metadata": {},
   "outputs": [],
   "source": []
  }
 ],
 "metadata": {
  "kernelspec": {
   "display_name": "Python 3 (ipykernel)",
   "language": "python",
   "name": "python3"
  },
  "language_info": {
   "codemirror_mode": {
    "name": "ipython",
    "version": 3
   },
   "file_extension": ".py",
   "mimetype": "text/x-python",
   "name": "python",
   "nbconvert_exporter": "python",
   "pygments_lexer": "ipython3",
   "version": "3.10.7"
  }
 },
 "nbformat": 4,
 "nbformat_minor": 5
}
