{
 "cells": [
  {
   "cell_type": "markdown",
   "id": "7c4f20a7-2a79-4914-85c7-2c8caf67233a",
   "metadata": {},
   "source": [
    "# 1. TorchText has different datasets based on datapipes for NLP. Which categories we can found datasets?"
   ]
  },
  {
   "cell_type": "markdown",
   "id": "2408470d-beaa-4135-be22-b68dcee8978c",
   "metadata": {},
   "source": [
    "- Textclassification\n",
    "- Language Modeling\n",
    "- Machine translation\n",
    "- Question answering\n",
    "- Squence tagging\n",
    "- Model pre-training\n",
    "\n",
    "ref: https://github.com/pytorch/text"
   ]
  },
  {
   "cell_type": "markdown",
   "id": "dbfd9c9b-5e11-4d44-b33b-e3eeede23f61",
   "metadata": {},
   "source": [
    "# 2. Torchtext has not the variability of models that HF has, but which models can we find on the library?\n",
    "\n",
    "- RoBERTa\n",
    "- DistillRoBERTa\n",
    "- T5\n",
    "- Flan-T5"
   ]
  },
  {
   "cell_type": "markdown",
   "id": "a05a9355-d874-4f7e-ade0-1d08d21d0b9f",
   "metadata": {},
   "source": [
    "# 3. Which utilities we can perform when working with torchtext?\n",
    "\n",
    "- Building a vocabulary and loading pretrained word embeddings of words\n",
    "- tokenizing\n",
    "- preprocessing\n",
    "- compute evaluatino metrics"
   ]
  },
  {
   "cell_type": "markdown",
   "id": "8b7955f6-d445-4e78-be08-4a766c0dc92e",
   "metadata": {},
   "source": [
    "# 4. How we can understanding the importance of a vocabulary to a LLM?"
   ]
  },
  {
   "cell_type": "markdown",
   "id": "fbf31183-ef9f-4a8c-a859-840932586449",
   "metadata": {},
   "source": [
    "The vocabulary is like a dictionary (not in a python way) that contains all tokens (words) that we expect to find in our senteces use-case. For example, if your model only have tokens in Chinese, how will this model be able to work in a english use-case."
   ]
  },
  {
   "cell_type": "code",
   "execution_count": null,
   "id": "e67f3c0c-d9b8-4522-bb63-9d74d2fabe87",
   "metadata": {},
   "outputs": [],
   "source": []
  },
  {
   "cell_type": "code",
   "execution_count": null,
   "id": "b421bf28-fe6f-4e04-b8b4-6dbda262347b",
   "metadata": {},
   "outputs": [],
   "source": []
  },
  {
   "cell_type": "code",
   "execution_count": null,
   "id": "f0f51d46-66ee-4e7d-ac0c-b1ca2914e9eb",
   "metadata": {},
   "outputs": [],
   "source": []
  },
  {
   "cell_type": "code",
   "execution_count": null,
   "id": "ae7819f9-69fc-496a-a765-9cc046e71e91",
   "metadata": {},
   "outputs": [],
   "source": []
  }
 ],
 "metadata": {
  "kernelspec": {
   "display_name": "Python 3 (ipykernel)",
   "language": "python",
   "name": "python3"
  },
  "language_info": {
   "codemirror_mode": {
    "name": "ipython",
    "version": 3
   },
   "file_extension": ".py",
   "mimetype": "text/x-python",
   "name": "python",
   "nbconvert_exporter": "python",
   "pygments_lexer": "ipython3",
   "version": "3.10.7"
  }
 },
 "nbformat": 4,
 "nbformat_minor": 5
}
