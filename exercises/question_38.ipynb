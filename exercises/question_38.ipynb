{
 "cells": [
  {
   "cell_type": "code",
   "execution_count": 1,
   "id": "8d5f8829-d06e-477d-92a0-8429682d9f48",
   "metadata": {},
   "outputs": [
    {
     "data": {
      "text/html": [
       "\n",
       "                <script type=\"application/javascript\" id=\"jupyter_black\">\n",
       "                (function() {\n",
       "                    if (window.IPython === undefined) {\n",
       "                        return\n",
       "                    }\n",
       "                    var msg = \"WARNING: it looks like you might have loaded \" +\n",
       "                        \"jupyter_black in a non-lab notebook with \" +\n",
       "                        \"`is_lab=True`. Please double check, and if \" +\n",
       "                        \"loading with `%load_ext` please review the README!\"\n",
       "                    console.log(msg)\n",
       "                    alert(msg)\n",
       "                })()\n",
       "                </script>\n",
       "                "
      ],
      "text/plain": [
       "<IPython.core.display.HTML object>"
      ]
     },
     "metadata": {},
     "output_type": "display_data"
    }
   ],
   "source": [
    "%load_ext jupyter_black"
   ]
  },
  {
   "cell_type": "code",
   "execution_count": 9,
   "id": "44b93dc4-5a24-409d-9e94-071844db4cdb",
   "metadata": {},
   "outputs": [],
   "source": [
    "import torch\n",
    "import torch.nn as nn\n",
    "import torch.optim as optim\n",
    "from torch.utils.data import Dataset, DataLoader\n",
    "from sklearn.datasets import load_diabetes\n",
    "from sklearn.model_selection import train_test_split\n",
    "from sklearn.preprocessing import StandardScaler\n",
    "\n",
    "\n",
    "# Define a simple linear regression model\n",
    "class LinearRegressionModel(nn.Module):\n",
    "    def __init__(self):\n",
    "        super(LinearRegressionModel, self).__init__()\n",
    "        self.sequential = nn.Sequential(\n",
    "            nn.Linear(10, 10),\n",
    "            nn.ReLU(),\n",
    "            nn.Linear(10, 100),\n",
    "            nn.ReLU(),\n",
    "            nn.Linear(100, 100),\n",
    "            nn.ReLU(),\n",
    "            nn.Linear(100, 10),\n",
    "            nn.Linear(10, 1),\n",
    "        )\n",
    "\n",
    "    def forward(self, x):\n",
    "        return self.sequential(x)\n",
    "\n",
    "\n",
    "# Define a custom dataset\n",
    "class DiabetesDataset(Dataset):\n",
    "    def __init__(self, data, targets):\n",
    "        self.data = data\n",
    "        self.targets = targets\n",
    "\n",
    "    def __len__(self):\n",
    "        return len(self.data)\n",
    "\n",
    "    def __getitem__(self, idx):\n",
    "        return self.data[idx], self.targets[idx]\n",
    "\n",
    "\n",
    "# Load the Diabetes dataset\n",
    "diabetes = load_diabetes()\n",
    "data = diabetes.data\n",
    "targets = diabetes.target\n",
    "\n",
    "# Standardize the data\n",
    "scaler = StandardScaler()\n",
    "data = scaler.fit_transform(data)\n",
    "\n",
    "# Split the data into training and test sets\n",
    "data_train, data_test, targets_train, targets_test = train_test_split(\n",
    "    data, targets, test_size=0.2, random_state=42\n",
    ")\n",
    "\n",
    "# Convert data to tensors\n",
    "data_train = torch.tensor(data_train, dtype=torch.float32)\n",
    "targets_train = torch.tensor(targets_train, dtype=torch.float32).view(-1, 1)\n",
    "data_test = torch.tensor(data_test, dtype=torch.float32)\n",
    "targets_test = torch.tensor(targets_test, dtype=torch.float32).view(-1, 1)\n",
    "\n",
    "# Create datasets\n",
    "train_dataset = DiabetesDataset(data_train, targets_train)\n",
    "test_dataset = DiabetesDataset(data_test, targets_test)\n",
    "\n",
    "# Create dataloaders\n",
    "train_loader = DataLoader(train_dataset, batch_size=256, shuffle=True)\n",
    "test_loader = DataLoader(test_dataset, batch_size=256)\n",
    "\n",
    "# Initialize the model, loss function and optimizer\n",
    "model = LinearRegressionModel()\n",
    "criterion = nn.MSELoss()\n",
    "optimizer = optim.Adam(model.parameters(), lr=0.01)"
   ]
  },
  {
   "cell_type": "markdown",
   "id": "80943303-a137-4a09-859d-894375ee3c26",
   "metadata": {},
   "source": [
    "# Creating a training loop"
   ]
  },
  {
   "cell_type": "code",
   "execution_count": 10,
   "id": "ff8b421c-9b30-4237-ba6e-2aa3e0924d2c",
   "metadata": {},
   "outputs": [],
   "source": [
    "n_epochs = 100\n",
    "losses = torch.empty(n_epochs)\n",
    "val_losses = torch.empty(n_epochs)\n",
    "model.to(\"cuda\")\n",
    "\n",
    "for epoch in range(n_epochs):\n",
    "    batch_losses = torch.empty(len(train_loader))\n",
    "    for i, (features, target) in enumerate(train_loader):\n",
    "        model.train()\n",
    "        features = features.to(\"cuda\")\n",
    "        target = target.to(\"cuda\")\n",
    "\n",
    "        preds = model(features)\n",
    "\n",
    "        loss = criterion(preds, target)\n",
    "        batch_losses[i] = loss.item()\n",
    "        loss.backward()\n",
    "\n",
    "        optimizer.step()\n",
    "        optimizer.zero_grad()\n",
    "    losses[epoch] = batch_losses.mean()\n",
    "\n",
    "    batch_val_losses = torch.empty(len(test_loader))\n",
    "    with torch.inference_mode():\n",
    "        for i, (features, target) in enumerate(test_loader):\n",
    "            model.eval()\n",
    "            features = features.to(\"cuda\")\n",
    "            target = target.to(\"cuda\")\n",
    "\n",
    "            preds = model(features)\n",
    "\n",
    "            loss = criterion(preds, target)\n",
    "            batch_val_losses[i] = loss.item()\n",
    "    val_losses[epoch] = batch_val_losses.mean()"
   ]
  },
  {
   "cell_type": "code",
   "execution_count": 11,
   "id": "e2fd91e2-3c16-4ac1-ab95-548addd29484",
   "metadata": {},
   "outputs": [
    {
     "data": {
      "text/plain": [
       "torch.Size([100])"
      ]
     },
     "execution_count": 11,
     "metadata": {},
     "output_type": "execute_result"
    }
   ],
   "source": [
    "losses.shape"
   ]
  },
  {
   "cell_type": "code",
   "execution_count": 15,
   "id": "21a51c7f-2fb7-44fc-a112-b83758745267",
   "metadata": {},
   "outputs": [],
   "source": [
    "def save_checkpoint(model, optimizer, filename):\n",
    "    checkpoint = {\n",
    "        \"model_state_dict\": model.state_dict(),\n",
    "        \"optimizer_state_dict\": optimizer.state_dict(),\n",
    "    }\n",
    "    torch.save(checkpoint, filename)\n",
    "\n",
    "\n",
    "def load_checkpoint(model, optimizer, filename):\n",
    "    checkpoint = torch.load(filename)\n",
    "    model.load_state_dict(checkpoint[\"model_state_dict\"])\n",
    "    optimizer.load_state_dict(checkpoint[\"optimizer_state_dict\"])"
   ]
  },
  {
   "cell_type": "code",
   "execution_count": 17,
   "id": "843dae8b-1842-498d-9db2-d43999ba2a90",
   "metadata": {},
   "outputs": [],
   "source": [
    "save_checkpoint(model, optimizer, \"model.pth\")"
   ]
  },
  {
   "cell_type": "code",
   "execution_count": 19,
   "id": "7c2dae7e-3b8c-471d-ac0c-0e79a70ddad1",
   "metadata": {},
   "outputs": [],
   "source": [
    "empty_model = LinearRegressionModel()\n",
    "empty_optimizer = optim.Adam(empty_model.parameters(), lr=0.01)\n",
    "\n",
    "load_checkpoint(empty_model, empty_optimizer, \"model.pth\")"
   ]
  },
  {
   "cell_type": "code",
   "execution_count": 22,
   "id": "7b0bae6a-735c-4cdd-be26-ffb8ac15b417",
   "metadata": {},
   "outputs": [
    {
     "data": {
      "text/plain": [
       "LinearRegressionModel(\n",
       "  (sequential): Sequential(\n",
       "    (0): Linear(in_features=10, out_features=10, bias=True)\n",
       "    (1): ReLU()\n",
       "    (2): Linear(in_features=10, out_features=100, bias=True)\n",
       "    (3): ReLU()\n",
       "    (4): Linear(in_features=100, out_features=100, bias=True)\n",
       "    (5): ReLU()\n",
       "    (6): Linear(in_features=100, out_features=10, bias=True)\n",
       "    (7): Linear(in_features=10, out_features=1, bias=True)\n",
       "  )\n",
       ")"
      ]
     },
     "execution_count": 22,
     "metadata": {},
     "output_type": "execute_result"
    }
   ],
   "source": [
    "# before to use\n",
    "empty_model.eval()\n",
    "empty_model.to(\"cuda\")\n",
    "# use"
   ]
  },
  {
   "cell_type": "code",
   "execution_count": 14,
   "id": "2963e54d-47c0-4599-b2d3-64adcc66bebd",
   "metadata": {},
   "outputs": [
    {
     "data": {
      "text/plain": [
       "<matplotlib.legend.Legend at 0x7fbb6356c2e0>"
      ]
     },
     "execution_count": 14,
     "metadata": {},
     "output_type": "execute_result"
    },
    {
     "data": {
      "image/png": "[encoded data removed]",
      "text/plain": [
       "<Figure size 640x480 with 1 Axes>"
      ]
     },
     "metadata": {},
     "output_type": "display_data"
    }
   ],
   "source": [
    "import matplotlib.pyplot as plt\n",
    "\n",
    "plt.plot(losses, label=\"training\")\n",
    "plt.plot(val_losses, label=\"validation\")\n",
    "plt.xlabel(\"Epoch\")\n",
    "plt.ylabel(\"Loss\")\n",
    "plt.title(\"Training Loss\")\n",
    "plt.legend()"
   ]
  },
  {
   "cell_type": "code",
   "execution_count": null,
   "id": "0e7bbe8c-3aad-4d59-afa5-4494a6b01060",
   "metadata": {},
   "outputs": [],
   "source": []
  },
  {
   "cell_type": "code",
   "execution_count": null,
   "id": "7dee9a97-009c-49e9-8879-97a1fe16400e",
   "metadata": {},
   "outputs": [],
   "source": []
  },
  {
   "cell_type": "code",
   "execution_count": null,
   "id": "7b06162d-5e83-4224-9664-137c33a2ca22",
   "metadata": {},
   "outputs": [],
   "source": []
  }
 ],
 "metadata": {
  "kernelspec": {
   "display_name": "Python 3 (ipykernel)",
   "language": "python",
   "name": "python3"
  },
  "language_info": {
   "codemirror_mode": {
    "name": "ipython",
    "version": 3
   },
   "file_extension": ".py",
   "mimetype": "text/x-python",
   "name": "python",
   "nbconvert_exporter": "python",
   "pygments_lexer": "ipython3",
   "version": "3.10.7"
  }
 },
 "nbformat": 4,
 "nbformat_minor": 5
}
