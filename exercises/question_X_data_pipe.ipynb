{
 "cells": [
  {
   "cell_type": "code",
   "execution_count": 2,
   "id": "905eca11-dab1-456d-bbac-732235ff9a54",
   "metadata": {},
   "outputs": [
    {
     "data": {
      "text/html": [
       "\n",
       "                <script type=\"application/javascript\" id=\"jupyter_black\">\n",
       "                (function() {\n",
       "                    if (window.IPython === undefined) {\n",
       "                        return\n",
       "                    }\n",
       "                    var msg = \"WARNING: it looks like you might have loaded \" +\n",
       "                        \"jupyter_black in a non-lab notebook with \" +\n",
       "                        \"`is_lab=True`. Please double check, and if \" +\n",
       "                        \"loading with `%load_ext` please review the README!\"\n",
       "                    console.log(msg)\n",
       "                    alert(msg)\n",
       "                })()\n",
       "                </script>\n",
       "                "
      ],
      "text/plain": [
       "<IPython.core.display.HTML object>"
      ]
     },
     "metadata": {},
     "output_type": "display_data"
    }
   ],
   "source": [
    "%load_ext jupyter_black"
   ]
  },
  {
   "cell_type": "markdown",
   "id": "27388e53-97ee-4fe8-8229-3045c35883c5",
   "metadata": {},
   "source": [
    "# Question: Create a Dataset from the reading of the folder cars"
   ]
  },
  {
   "cell_type": "code",
   "execution_count": 34,
   "id": "d52501bc-ed20-4907-99c0-0865a7b1d74a",
   "metadata": {},
   "outputs": [],
   "source": [
    "import torchdata.datapipes as dp\n",
    "from torch.utils.data import DataLoader\n",
    "import os"
   ]
  },
  {
   "cell_type": "code",
   "execution_count": 78,
   "id": "4112c79b-66d2-4219-b51a-6fee53b55502",
   "metadata": {},
   "outputs": [],
   "source": [
    "def filtering_paths(filename: str):\n",
    "    checks = (\n",
    "        (\"unclean\" not in filename)\n",
    "        and (\"focus\" not in filename)\n",
    "        and (\"cclass\" not in filename)\n",
    "        and filename.endswith(\".csv\")\n",
    "    )\n",
    "    return checks\n",
    "\n",
    "\n",
    "def get_manufacturer(content):\n",
    "    path, data = content\n",
    "    manuf = os.path.splitext(os.path.basename(path))\n",
    "    manuf = manuf[0].upper()\n",
    "    data.extend([manuf])\n",
    "    return data\n",
    "\n",
    "\n",
    "def gen_encoder_dict(series):\n",
    "    values = series.unique()\n",
    "    values = values.to_numpy().flatten().tolist()\n",
    "    return dict(zip(values, range(len(values))))"
   ]
  },
  {
   "cell_type": "code",
   "execution_count": 79,
   "id": "bd96c818-acbe-430f-9741-01627914188d",
   "metadata": {},
   "outputs": [],
   "source": [
    "dropdown_encoders = {col: gen_encoder_dict(df.select(col)) for col in cat_attr}"
   ]
  },
  {
   "cell_type": "code",
   "execution_count": 59,
   "id": "b0d8e72b-a50a-418d-b7d7-9444d07ace2c",
   "metadata": {},
   "outputs": [],
   "source": [
    "import polars as pl\n",
    "import pandas as pd\n",
    "\n",
    "df = pl.DataFrame(list(datapipe)).transpose(\n",
    "    column_names=[\n",
    "        \"model\",\n",
    "        \"year\",\n",
    "        \"price\",\n",
    "        \"transmission\",\n",
    "        \"mileage\",\n",
    "        \"fuel_type\",\n",
    "        \"road_tax\",\n",
    "        \"mpg\",\n",
    "        \"engine_size\",\n",
    "        \"manufacturer\",\n",
    "    ]\n",
    ")\n",
    "N_ROWS = len(df)\n",
    "cont_attr = [\"year\", \"mileage\", \"road_tax\", \"mpg\", \"engine_size\"]\n",
    "cat_attr = [\"model\", \"transmission\", \"fuel_type\", \"manufacturer\"]"
   ]
  },
  {
   "cell_type": "code",
   "execution_count": 119,
   "id": "d702e29d-2d09-4e3f-9531-f8fc9c32b5a8",
   "metadata": {},
   "outputs": [],
   "source": [
    "import numpy as np\n",
    "\n",
    "\n",
    "def preproc(row: list):\n",
    "    colnames = [\n",
    "        \"model\",\n",
    "        \"year\",\n",
    "        \"price\",\n",
    "        \"transmission\",\n",
    "        \"mileage\",\n",
    "        \"fuel_type\",\n",
    "        \"road_tax\",\n",
    "        \"mpg\",\n",
    "        \"engine_size\",\n",
    "        \"manufacturer\",\n",
    "    ]\n",
    "\n",
    "    cat_attr = [\"model\", \"transmission\", \"fuel_type\", \"manufacturer\"]\n",
    "    cont_attr = [\"year\", \"mileage\", \"road_tax\", \"mpg\", \"engine_size\"]\n",
    "    target = \"price\"\n",
    "\n",
    "    vals = dict(zip(colnames, row))\n",
    "    cont_X = [float(vals[name]) for name in cont_attr]\n",
    "    cat_X = [dropdown_encoders[name][vals[name]] for name in cat_attr]\n",
    "\n",
    "    return {\n",
    "        \"label\": np.array([float(vals[target])], dtype=np.float32),\n",
    "        \"cont_X\": np.array(cont_X, dtype=np.float32),\n",
    "        \"cat_X\": np.array(cat_X, dtype=int),\n",
    "    }"
   ]
  },
  {
   "cell_type": "code",
   "execution_count": 120,
   "id": "8e395f27-cec2-4a41-ab13-cd3443aee8ec",
   "metadata": {},
   "outputs": [],
   "source": [
    "datapipe = dp.iter.FileLister(\"./cars/\")\n",
    "datapipe = datapipe.filter(filter_fn=filtering_paths)\n",
    "# the openfiles and parsecsv works together\n",
    "datapipe = datapipe.open_files(mode=\"rt\")\n",
    "datapipe = datapipe.parse_csv(delimiter=\",\", skip_lines=1, return_path=True)\n",
    "datapipe = datapipe.map(get_manufacturer)\n",
    "datapipe = datapipe.map(preproc)"
   ]
  },
  {
   "cell_type": "code",
   "execution_count": 121,
   "id": "0a023551-f8f2-4b90-9c09-53b8ccda2cd6",
   "metadata": {},
   "outputs": [
    {
     "data": {
      "text/plain": [
       "{'label': tensor([[12500.],\n",
       "         [16500.],\n",
       "         [11000.],\n",
       "         [16800.],\n",
       "         [17300.]]),\n",
       " 'cont_X': tensor([[2.0170e+03, 1.5735e+04, 1.5000e+02, 5.5400e+01, 1.4000e+00],\n",
       "         [2.0160e+03, 3.6203e+04, 2.0000e+01, 6.4200e+01, 2.0000e+00],\n",
       "         [2.0160e+03, 2.9946e+04, 3.0000e+01, 5.5400e+01, 1.4000e+00],\n",
       "         [2.0170e+03, 2.5952e+04, 1.4500e+02, 6.7300e+01, 2.0000e+00],\n",
       "         [2.0190e+03, 1.9980e+03, 1.4500e+02, 4.9600e+01, 1.0000e+00]]),\n",
       " 'cat_X': tensor([[ 8,  0,  1,  7],\n",
       "         [62,  3,  0,  7],\n",
       "         [ 8,  0,  1,  7],\n",
       "         [85,  3,  0,  7],\n",
       "         [91,  0,  1,  7]])}"
      ]
     },
     "execution_count": 121,
     "metadata": {},
     "output_type": "execute_result"
    }
   ],
   "source": [
    "# ways to check\n",
    "dataloader = DataLoader(datapipe, batch_size=5)\n",
    "\n",
    "next(iter(dataloader))"
   ]
  },
  {
   "cell_type": "code",
   "execution_count": null,
   "id": "b843ec22-70e2-4735-9e0c-a5b1157aec00",
   "metadata": {},
   "outputs": [],
   "source": []
  },
  {
   "cell_type": "code",
   "execution_count": null,
   "id": "509da215-7ead-4172-bde3-38853e991f6b",
   "metadata": {},
   "outputs": [],
   "source": []
  }
 ],
 "metadata": {
  "kernelspec": {
   "display_name": "Python 3 (ipykernel)",
   "language": "python",
   "name": "python3"
  },
  "language_info": {
   "codemirror_mode": {
    "name": "ipython",
    "version": 3
   },
   "file_extension": ".py",
   "mimetype": "text/x-python",
   "name": "python",
   "nbconvert_exporter": "python",
   "pygments_lexer": "ipython3",
   "version": "3.10.7"
  }
 },
 "nbformat": 4,
 "nbformat_minor": 5
}
